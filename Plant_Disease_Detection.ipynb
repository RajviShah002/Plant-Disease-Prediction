{
 "cells": [
  {
   "cell_type": "code",
   "execution_count": 5,
   "metadata": {},
   "outputs": [
    {
     "name": "stdout",
     "output_type": "stream",
     "text": [
      "Num GPUs: 0\n"
     ]
    }
   ],
   "source": [
    "import tensorflow as tf\n",
    "from tensorflow.keras.layers import Flatten,Activation,Dense,Conv2D,MaxPooling2D,Dropout\n",
    "from tensorflow.keras.models import Sequential\n",
    "from tensorflow.keras.layers import BatchNormalization\n",
    "from tensorflow.keras import regularizers\n",
    "from sklearn.model_selection import train_test_split\n",
    "from tensorflow.keras.preprocessing.image import ImageDataGenerator\n",
    "from tensorflow import keras\n",
    "from tensorflow.keras.models import Model\n",
    "import cv2                 \n",
    "import numpy as np         \n",
    "import os                  \n",
    "from random import shuffle\n",
    "from tqdm import tqdm    \n",
    "import matplotlib.pyplot as plt\n",
    "import time \n",
    "from tensorflow.keras.preprocessing.image import img_to_array\n",
    "from tensorflow.keras.models import load_model\n",
    "import cvlib as cv\n",
    "from cvlib.object_detection import draw_bbox\n",
    "\n",
    "TRAIN_DIR = 'C:/Users/Rajvi Shah/Desktop/SGP/PlantVillage' \n",
    "IMG_SIZE = 128 \n",
    "input_shape = (IMG_SIZE,IMG_SIZE,3)\n",
    "physical_devices = tf.config.list_physical_devices('GPU')\n",
    "print(\"Num GPUs:\", len(physical_devices)) "
   ]
  },
  {
   "cell_type": "code",
   "execution_count": 6,
   "metadata": {},
   "outputs": [],
   "source": [
    "def label_imgv2(word_label):\n",
    "    if word_label == 'Pepper__bell___Bacterial_spot': return 0\n",
    "    elif word_label == 'Pepper__bell___healthy': return 1\n",
    "    elif word_label == 'Potato___Early_blight': return 2\n",
    "    elif word_label == 'Potato___healthy': return 3\n",
    "    elif word_label == 'Potato___Late_blight': return 4\n",
    "    elif word_label == 'Tomato__Target_Spot': return 5\n",
    "    elif word_label == 'Tomato__Tomato_mosaic_virus': return 6\n",
    "    elif word_label == 'Tomato__Tomato_YellowLeaf__Curl_Virus': return 7\n",
    "    elif word_label == 'Tomato_Bacterial_spot': return 8\n",
    "    elif word_label == 'Tomato_Early_blight': return 9\n",
    "    elif word_label == 'Tomato_healthy': return 10\n",
    "    elif word_label == 'Tomato_Late_blight': return 11\n",
    "    elif word_label == 'Tomato_Leaf_Mold': return 12\n",
    "    elif word_label == 'Tomato_Septoria_leaf_spot': return 13\n",
    "    elif word_label == 'Tomato_Spider_mites_Two_spotted_spider_mite': return 14\n",
    "\n",
    "def create_train_data():\n",
    "    training_data = []\n",
    "    \n",
    "    for folder in os.listdir(TRAIN_DIR):\n",
    "        i=0\n",
    "        for img in os.listdir(TRAIN_DIR+\"/\"+folder):\n",
    "            i+=1\n",
    "            path = os.path.join(TRAIN_DIR+\"/\"+folder,img)\n",
    "            \n",
    "            try:\n",
    "                label = label_imgv2(folder)\n",
    "                img = cv2.imread(path,cv2.IMREAD_COLOR)\n",
    "                img = cv2.resize(img, (IMG_SIZE,IMG_SIZE))\n",
    "                training_data.append([np.array(img),np.array(label)])\n",
    "            \n",
    "            except:\n",
    "                print(path)\n",
    "            if i==500:\n",
    "                break\n",
    "\n",
    "    shuffle(training_data)\n",
    "    return training_data\n",
    "\n",
    "train_data = create_train_data()"
   ]
  },
  {
   "cell_type": "code",
   "execution_count": 7,
   "metadata": {},
   "outputs": [
    {
     "data": {
      "text/plain": [
       "['Pepper__bell___Bacterial_spot',\n",
       " 'Pepper__bell___healthy',\n",
       " 'Potato___Early_blight',\n",
       " 'Potato___healthy',\n",
       " 'Potato___Late_blight',\n",
       " 'Tomato_Bacterial_spot',\n",
       " 'Tomato_Early_blight',\n",
       " 'Tomato_healthy',\n",
       " 'Tomato_Late_blight',\n",
       " 'Tomato_Leaf_Mold',\n",
       " 'Tomato_Septoria_leaf_spot',\n",
       " 'Tomato_Spider_mites_Two_spotted_spider_mite',\n",
       " 'Tomato__Target_Spot',\n",
       " 'Tomato__Tomato_mosaic_virus',\n",
       " 'Tomato__Tomato_YellowLeaf__Curl_Virus']"
      ]
     },
     "execution_count": 7,
     "metadata": {},
     "output_type": "execute_result"
    }
   ],
   "source": [
    "os.listdir('C:/Users/Rajvi Shah/Desktop/SGP/PlantVillage')"
   ]
  },
  {
   "cell_type": "code",
   "execution_count": 8,
   "metadata": {},
   "outputs": [
    {
     "data": {
      "text/plain": [
       "(7025, 128, 128, 3)"
      ]
     },
     "execution_count": 8,
     "metadata": {},
     "output_type": "execute_result"
    }
   ],
   "source": [
    "train_y=np.array([i[1] for i in train_data])\n",
    "train_x=np.array([i[0] for i in train_data]).reshape(-1,IMG_SIZE,IMG_SIZE,3)\n",
    "\n",
    "train_x.shape"
   ]
  },
  {
   "cell_type": "code",
   "execution_count": 9,
   "metadata": {},
   "outputs": [],
   "source": [
    "train_x=train_x/255\n",
    "x_train,x_test,y_train,y_test=train_test_split(train_x,train_y,test_size=0.2)"
   ]
  },
  {
   "cell_type": "code",
   "execution_count": 10,
   "metadata": {},
   "outputs": [
    {
     "name": "stdout",
     "output_type": "stream",
     "text": [
      "Steps: 703\n",
      "BatchSize: 10\n"
     ]
    }
   ],
   "source": [
    "train_datagen = ImageDataGenerator(zoom_range=0.1, rotation_range=50,\n",
    "                                   width_shift_range=0.1, height_shift_range=0.1, shear_range=0.2, \n",
    "                                   horizontal_flip=True, fill_mode='nearest')\n",
    "\n",
    "val_datagen = ImageDataGenerator()\n",
    "train_generator = train_datagen.flow(x_train, y_train, batch_size=32)\n",
    "val_generator = val_datagen.flow(x_test, y_test, batch_size=20)\n",
    "batchSize=10\n",
    "steps = int(7025/batchSize) + 1\n",
    "print(\"Steps:\", steps)\n",
    "print(\"BatchSize:\", batchSize)"
   ]
  },
  {
   "cell_type": "code",
   "execution_count": 11,
   "metadata": {},
   "outputs": [
    {
     "name": "stdout",
     "output_type": "stream",
     "text": [
      "Model: \"sequential\"\n",
      "_________________________________________________________________\n",
      "Layer (type)                 Output Shape              Param #   \n",
      "=================================================================\n",
      "conv2d (Conv2D)              (None, 128, 128, 64)      1792      \n",
      "_________________________________________________________________\n",
      "activation (Activation)      (None, 128, 128, 64)      0         \n",
      "_________________________________________________________________\n",
      "conv2d_1 (Conv2D)            (None, 128, 128, 64)      36928     \n",
      "_________________________________________________________________\n",
      "batch_normalization (BatchNo (None, 128, 128, 64)      256       \n",
      "_________________________________________________________________\n",
      "activation_1 (Activation)    (None, 128, 128, 64)      0         \n",
      "_________________________________________________________________\n",
      "max_pooling2d (MaxPooling2D) (None, 64, 64, 64)        0         \n",
      "_________________________________________________________________\n",
      "dropout (Dropout)            (None, 64, 64, 64)        0         \n",
      "_________________________________________________________________\n",
      "conv2d_2 (Conv2D)            (None, 64, 64, 64)        36928     \n",
      "_________________________________________________________________\n",
      "batch_normalization_1 (Batch (None, 64, 64, 64)        256       \n",
      "_________________________________________________________________\n",
      "activation_2 (Activation)    (None, 64, 64, 64)        0         \n",
      "_________________________________________________________________\n",
      "conv2d_3 (Conv2D)            (None, 64, 64, 64)        36928     \n",
      "_________________________________________________________________\n",
      "batch_normalization_2 (Batch (None, 64, 64, 64)        256       \n",
      "_________________________________________________________________\n",
      "activation_3 (Activation)    (None, 64, 64, 64)        0         \n",
      "_________________________________________________________________\n",
      "conv2d_4 (Conv2D)            (None, 64, 64, 64)        36928     \n",
      "_________________________________________________________________\n",
      "batch_normalization_3 (Batch (None, 64, 64, 64)        256       \n",
      "_________________________________________________________________\n",
      "activation_4 (Activation)    (None, 64, 64, 64)        0         \n",
      "_________________________________________________________________\n",
      "max_pooling2d_1 (MaxPooling2 (None, 32, 32, 64)        0         \n",
      "_________________________________________________________________\n",
      "dropout_1 (Dropout)          (None, 32, 32, 64)        0         \n",
      "_________________________________________________________________\n",
      "conv2d_5 (Conv2D)            (None, 32, 32, 64)        36928     \n",
      "_________________________________________________________________\n",
      "batch_normalization_4 (Batch (None, 32, 32, 64)        256       \n",
      "_________________________________________________________________\n",
      "activation_5 (Activation)    (None, 32, 32, 64)        0         \n",
      "_________________________________________________________________\n",
      "conv2d_6 (Conv2D)            (None, 32, 32, 64)        36928     \n",
      "_________________________________________________________________\n",
      "batch_normalization_5 (Batch (None, 32, 32, 64)        256       \n",
      "_________________________________________________________________\n",
      "activation_6 (Activation)    (None, 32, 32, 64)        0         \n",
      "_________________________________________________________________\n",
      "conv2d_7 (Conv2D)            (None, 32, 32, 64)        36928     \n",
      "_________________________________________________________________\n",
      "batch_normalization_6 (Batch (None, 32, 32, 64)        256       \n",
      "_________________________________________________________________\n",
      "activation_7 (Activation)    (None, 32, 32, 64)        0         \n",
      "_________________________________________________________________\n",
      "max_pooling2d_2 (MaxPooling2 (None, 16, 16, 64)        0         \n",
      "_________________________________________________________________\n",
      "dropout_2 (Dropout)          (None, 16, 16, 64)        0         \n",
      "_________________________________________________________________\n",
      "conv2d_8 (Conv2D)            (None, 16, 16, 64)        36928     \n",
      "_________________________________________________________________\n",
      "batch_normalization_7 (Batch (None, 16, 16, 64)        256       \n",
      "_________________________________________________________________\n",
      "activation_8 (Activation)    (None, 16, 16, 64)        0         \n",
      "_________________________________________________________________\n",
      "conv2d_9 (Conv2D)            (None, 16, 16, 64)        36928     \n",
      "_________________________________________________________________\n",
      "batch_normalization_8 (Batch (None, 16, 16, 64)        256       \n",
      "_________________________________________________________________\n",
      "activation_9 (Activation)    (None, 16, 16, 64)        0         \n",
      "_________________________________________________________________\n",
      "conv2d_10 (Conv2D)           (None, 16, 16, 64)        36928     \n",
      "_________________________________________________________________\n",
      "batch_normalization_9 (Batch (None, 16, 16, 64)        256       \n",
      "_________________________________________________________________\n",
      "activation_10 (Activation)   (None, 16, 16, 64)        0         \n",
      "_________________________________________________________________\n",
      "max_pooling2d_3 (MaxPooling2 (None, 8, 8, 64)          0         \n",
      "_________________________________________________________________\n",
      "flatten (Flatten)            (None, 4096)              0         \n",
      "_________________________________________________________________\n",
      "batch_normalization_10 (Batc (None, 4096)              16384     \n",
      "_________________________________________________________________\n",
      "dense (Dense)                (None, 128)               524416    \n",
      "_________________________________________________________________\n",
      "batch_normalization_11 (Batc (None, 128)               512       \n",
      "_________________________________________________________________\n",
      "activation_11 (Activation)   (None, 128)               0         \n",
      "_________________________________________________________________\n",
      "dense_1 (Dense)              (None, 128)               16512     \n",
      "_________________________________________________________________\n",
      "batch_normalization_12 (Batc (None, 128)               512       \n",
      "_________________________________________________________________\n",
      "activation_12 (Activation)   (None, 128)               0         \n",
      "_________________________________________________________________\n",
      "dense_2 (Dense)              (None, 15)                1935      \n",
      "=================================================================\n",
      "Total params: 933,903\n",
      "Trainable params: 923,919\n",
      "Non-trainable params: 9,984\n",
      "_________________________________________________________________\n"
     ]
    }
   ],
   "source": [
    "model = Sequential()\n",
    "\n",
    "model.add(Conv2D(64,(3,3),input_shape=(128,128,3),padding='same')) # 64 Filters of size (3 x 3 x 3) with Padding = 1\n",
    "model.add(Activation('relu'))\n",
    "\n",
    "model.add(Conv2D(64,(3,3),padding='same')) \n",
    "model.add(BatchNormalization()) # Batch Normalization\n",
    "model.add(Activation('relu'))\n",
    "model.add(MaxPooling2D(pool_size=(2,2))) # MaxPooling Layer 1\n",
    "\n",
    "model.add(Dropout(0.25)) # Dropout Layer\n",
    "model.add(Conv2D(64,(3,3),padding='same'))\n",
    "model.add(BatchNormalization())  # Batch Normalization\n",
    "model.add(Activation('relu')) \n",
    "\n",
    "model.add(Conv2D(64,(3,3),padding='same'))\n",
    "model.add(BatchNormalization())\n",
    "model.add(Activation('relu'))\n",
    "\n",
    "model.add(Conv2D(64,(3,3),padding='same'))\n",
    "model.add(BatchNormalization())  # Batch Normalization\n",
    "model.add(Activation('relu'))\n",
    "model.add(MaxPooling2D(pool_size=(2,2))) # MaxPooling Layer 2\n",
    "\n",
    "model.add(Dropout(0.25)) # Dropout Layer\n",
    "model.add(Conv2D(64,(3,3),padding='same'))\n",
    "model.add(BatchNormalization())  # Batch Normalization\n",
    "model.add(Activation('relu')) \n",
    "\n",
    "model.add(Conv2D(64,(3,3),padding='same'))\n",
    "model.add(BatchNormalization())  # Batch Normalization\n",
    "model.add(Activation('relu'))\n",
    "\n",
    "model.add(Conv2D(64,(3,3),padding='same'))\n",
    "model.add(BatchNormalization())  # Batch Normalization\n",
    "model.add(Activation('relu'))\n",
    "model.add(MaxPooling2D(pool_size=(2,2))) # MaxPooling Layer 3\n",
    "\n",
    "model.add(Dropout(0.25)) # Dropout Layer\n",
    "model.add(Conv2D(64,(3,3),padding='same'))\n",
    "model.add(BatchNormalization())  # Batch Normalization\n",
    "model.add(Activation('relu')) \n",
    "\n",
    "model.add(Conv2D(64,(3,3),padding='same')) \n",
    "model.add(BatchNormalization())  # Batch Normalization\n",
    "model.add(Activation('relu'))\n",
    "\n",
    "model.add(Conv2D(64,(3,3),padding='same'))\n",
    "model.add(BatchNormalization())  # Batch Normalization\n",
    "model.add(Activation('relu'))\n",
    "model.add(MaxPooling2D(pool_size=(2,2))) # MaxPooling Layer 4\n",
    "\n",
    "model.add(Flatten()) # Flatten into MLP\n",
    "model.add(BatchNormalization())  # Batch Normalization\n",
    "\n",
    "model.add(Dense(128)) # Densely Connected Layer (Fully Connected 1)\n",
    "model.add(BatchNormalization())\n",
    "model.add(Activation('relu'))\n",
    "\n",
    "model.add(Dense(128)) # Densely Connected Layer (Fully Connected 2)\n",
    "model.add(BatchNormalization()) # Batch Normalization\n",
    "model.add(Activation('relu'))\n",
    "\n",
    "model.add(Dense(15,activation='softmax')) # 38 Neurons in Last Layer\n",
    "\n",
    "opt = tf.keras.optimizers.Adam(learning_rate=0.0001)\n",
    "model.compile(loss='sparse_categorical_crossentropy',optimizer=opt,metrics=['accuracy'])#sparse_categorical_crossentropy is used because we are training more than two class \n",
    "model.summary()# to summarize the model"
   ]
  },
  {
   "cell_type": "code",
   "execution_count": 12,
   "metadata": {},
   "outputs": [
    {
     "name": "stdout",
     "output_type": "stream",
     "text": [
      "Epoch 1/16\n",
      "703/703 [==============================] - 1461s 2s/step - loss: 2.2521 - accuracy: 0.2844 - val_loss: 4.8397 - val_accuracy: 0.0861\n",
      "Epoch 2/16\n",
      "703/703 [==============================] - 1310s 2s/step - loss: 1.4316 - accuracy: 0.5605 - val_loss: 2.9326 - val_accuracy: 0.1445\n",
      "Epoch 3/16\n",
      "703/703 [==============================] - 1397s 2s/step - loss: 1.0907 - accuracy: 0.6563 - val_loss: 2.5596 - val_accuracy: 0.1986\n",
      "Epoch 4/16\n",
      "703/703 [==============================] - 1360s 2s/step - loss: 0.8883 - accuracy: 0.7277 - val_loss: 2.7472 - val_accuracy: 0.3011\n",
      "Epoch 5/16\n",
      "703/703 [==============================] - 1132s 2s/step - loss: 0.7777 - accuracy: 0.7596 - val_loss: 1.7607 - val_accuracy: 0.4747\n",
      "Epoch 6/16\n",
      "703/703 [==============================] - 1054s 1s/step - loss: 0.6772 - accuracy: 0.7859 - val_loss: 1.5966 - val_accuracy: 0.5153\n",
      "Epoch 7/16\n",
      "703/703 [==============================] - 1024s 1s/step - loss: 0.6181 - accuracy: 0.8105 - val_loss: 1.3928 - val_accuracy: 0.5673\n",
      "Epoch 8/16\n",
      "703/703 [==============================] - 1017s 1s/step - loss: 0.5335 - accuracy: 0.8384 - val_loss: 2.2073 - val_accuracy: 0.4192\n",
      "Epoch 9/16\n",
      "703/703 [==============================] - 897s 1s/step - loss: 0.4779 - accuracy: 0.8563 - val_loss: 1.0994 - val_accuracy: 0.6534\n",
      "Epoch 10/16\n",
      "703/703 [==============================] - 887s 1s/step - loss: 0.4348 - accuracy: 0.8673 - val_loss: 1.1396 - val_accuracy: 0.6555\n",
      "Epoch 11/16\n",
      "703/703 [==============================] - 1070s 2s/step - loss: 0.3901 - accuracy: 0.8778 - val_loss: 0.7695 - val_accuracy: 0.7480\n",
      "Epoch 12/16\n",
      "703/703 [==============================] - 1334s 2s/step - loss: 0.3675 - accuracy: 0.8856 - val_loss: 1.6265 - val_accuracy: 0.5808\n",
      "Epoch 13/16\n",
      "556/703 [======================>.......] - ETA: 5:00 - loss: 0.3348 - accuracy: 0.8982WARNING:tensorflow:Your input ran out of data; interrupting training. Make sure that your dataset or generator can generate at least `steps_per_epoch * epochs` batches (in this case, 11248 batches). You may need to use the repeat() function when building your dataset.\n",
      "556/703 [======================>.......] - 1190s 2s/step - loss: 0.3348 - accuracy: 0.8982 - val_loss: 0.5945 - val_accuracy: 0.8014\n"
     ]
    }
   ],
   "source": [
    "custom=model.fit(x_train,y_train,epochs=16,batch_size=10,steps_per_epoch=steps,validation_data=(x_test,y_test))#to start the training of the model"
   ]
  },
  {
   "cell_type": "code",
   "execution_count": 13,
   "metadata": {},
   "outputs": [
    {
     "data": {
      "image/png": "[encoded data removed]",
      "text/plain": [
       "<Figure size 432x288 with 1 Axes>"
      ]
     },
     "metadata": {
      "needs_background": "light"
     },
     "output_type": "display_data"
    }
   ],
   "source": [
    "#model.save('model_fit_save.model')\n",
    "#new_model = tf.keras.models.load_model('model_fit_save.h5')\n",
    "\n",
    "# Show the model architecture\n",
    "#new_model.summary()\n",
    "plt.plot(custom.history['loss'])\n",
    "plt.plot(custom.history['val_loss'])\n",
    "plt.title(\"Model Loss\")\n",
    "plt.xlabel('Epochs')\n",
    "plt.ylabel('Loss')\n",
    "plt.legend(['Train', 'Test'])\n",
    "plt.show()\n",
    "#plt.savefig('model_loss.png')"
   ]
  },
  {
   "cell_type": "code",
   "execution_count": 14,
   "metadata": {},
   "outputs": [
    {
     "data": {
      "image/png": "[encoded data removed]",
      "text/plain": [
       "<Figure size 432x288 with 1 Axes>"
      ]
     },
     "metadata": {
      "needs_background": "light"
     },
     "output_type": "display_data"
    }
   ],
   "source": [
    "plt.plot(custom.history['accuracy'])\n",
    "plt.plot(custom.history['val_accuracy'])\n",
    "plt.title(\"Model Accuracy\")\n",
    "plt.xlabel('Epochs')\n",
    "plt.ylabel('Accuracy')\n",
    "plt.legend(['Train', 'Test'])\n",
    "plt.show()\n",
    "#plt.savefig('model_accuracy.png')"
   ]
  },
  {
   "cell_type": "code",
   "execution_count": 15,
   "metadata": {},
   "outputs": [
    {
     "data": {
      "text/plain": [
       "array([[1.4826575e-04, 7.2139555e-05, 8.1419617e-05, ..., 3.9216771e-05,\n",
       "        2.4411588e-03, 1.9332023e-04],\n",
       "       [1.2842037e-02, 9.2703260e-02, 6.4404024e-04, ..., 6.0271337e-03,\n",
       "        1.4742931e-04, 4.2661735e-01],\n",
       "       [4.1795050e-04, 2.0747707e-04, 4.4607010e-04, ..., 6.5373718e-03,\n",
       "        6.0373228e-03, 2.1346202e-02],\n",
       "       ...,\n",
       "       [2.1903780e-03, 4.2009656e-03, 7.1755171e-01, ..., 5.4530155e-02,\n",
       "        7.8545347e-02, 7.9525507e-04],\n",
       "       [1.4617958e-03, 2.6533925e-03, 2.5248426e-04, ..., 6.2472105e-04,\n",
       "        8.5773051e-01, 4.1182505e-04],\n",
       "       [1.0144900e-05, 1.1177295e-05, 2.9845015e-04, ..., 6.6326302e-06,\n",
       "        3.5504927e-06, 4.8312653e-05]], dtype=float32)"
      ]
     },
     "execution_count": 15,
     "metadata": {},
     "output_type": "execute_result"
    }
   ],
   "source": [
    "predictions = model.predict(x_test)#Generates output predictions for the input samples.\n",
    "predictions"
   ]
  },
  {
   "cell_type": "code",
   "execution_count": 16,
   "metadata": {},
   "outputs": [],
   "source": [
    "y_preds = [np.argmax(i) for i in predictions]"
   ]
  },
  {
   "cell_type": "code",
   "execution_count": 17,
   "metadata": {},
   "outputs": [
    {
     "name": "stdout",
     "output_type": "stream",
     "text": [
      "[[ 65  14   0   0   5   0   0   1   2   0   0   1   0   1   1]\n",
      " [  1  98   1   1   1   0   0   0   0   0   0   1   0   1   0]\n",
      " [  0   0  98   0   2   0   0   0   0   0   0   0   0   0   0]\n",
      " [  0   0   0  23   3   0   0   0   0   0   0   0   0   1   0]\n",
      " [  0   0   1   0  85   0   0   0   8   0   1   0   0   3   0]\n",
      " [  0   0   1   2  11  40   0   0   7   0  11   0   1   3  17]\n",
      " [  0   0   0   1   0   0  56   0   0   0   0   1   5   5   8]\n",
      " [  2   0   0   0   0   0   0  77  16   0   0   1   0   0   3]\n",
      " [  0   0   0   0   1   0   0   0 111   0   3   0   0   1   0]\n",
      " [  1   0   5   0   8   1   0   0  32  45   1   5   2   2   1]\n",
      " [  0   0   0   0   0   0   0   0   0   0 113   0   0   0   0]\n",
      " [  0   0   5   0   9   0   0   0   5   2   1  57   2   1   2]\n",
      " [  0   0   5   0   0   0   0   0   1   2   2   0  89   3   2]\n",
      " [  0   1   4   0   5   0   0   0   1   1   0   0   7  73   0]\n",
      " [  0   0   0   0   0   2   0   0   6   0   1   0   1   0  96]]\n",
      "              precision    recall  f1-score   support\n",
      "\n",
      "           0       0.94      0.72      0.82        90\n",
      "           1       0.87      0.94      0.90       104\n",
      "           2       0.82      0.98      0.89       100\n",
      "           3       0.85      0.85      0.85        27\n",
      "           4       0.65      0.87      0.75        98\n",
      "           5       0.93      0.43      0.59        93\n",
      "           6       1.00      0.74      0.85        76\n",
      "           7       0.99      0.78      0.87        99\n",
      "           8       0.59      0.96      0.73       116\n",
      "           9       0.90      0.44      0.59       103\n",
      "          10       0.85      1.00      0.92       113\n",
      "          11       0.86      0.68      0.76        84\n",
      "          12       0.83      0.86      0.84       104\n",
      "          13       0.78      0.79      0.78        92\n",
      "          14       0.74      0.91      0.81       106\n",
      "\n",
      "    accuracy                           0.80      1405\n",
      "   macro avg       0.84      0.80      0.80      1405\n",
      "weighted avg       0.83      0.80      0.79      1405\n",
      "\n"
     ]
    }
   ],
   "source": [
    "from sklearn import metrics\n",
    "print(metrics.confusion_matrix(y_test,y_preds))\n",
    "print(metrics.classification_report(y_test,y_preds))"
   ]
  },
  {
   "cell_type": "code",
   "execution_count": 18,
   "metadata": {},
   "outputs": [
    {
     "name": "stdout",
     "output_type": "stream",
     "text": [
      "WARNING:tensorflow:From C:\\Users\\Rajvi Shah\\AppData\\Roaming\\Python\\Python38\\site-packages\\tensorflow\\python\\ops\\resource_variable_ops.py:1813: calling BaseResourceVariable.__init__ (from tensorflow.python.ops.resource_variable_ops) with constraint is deprecated and will be removed in a future version.\n",
      "Instructions for updating:\n",
      "If using Keras pass *_constraint arguments to layers.\n",
      "INFO:tensorflow:Assets written to: plant_disease_classifier_model/plant_disease_classifier_final.model\\assets\n"
     ]
    }
   ],
   "source": [
    "model.save('plant_disease_classifier_model/plant_disease_classifier_final.model')\n",
    "model.save('plant_disease_classifier_model/plant_disease_classifier.h5')\n",
    "#use plot png here\n",
    "#plt.savefig('plant_disease_classifier_final.png')"
   ]
  },
  {
   "cell_type": "code",
   "execution_count": 19,
   "metadata": {},
   "outputs": [
    {
     "data": {
      "image/png": "[encoded data removed]",
      "text/plain": [
       "<Figure size 432x288 with 1 Axes>"
      ]
     },
     "metadata": {},
     "output_type": "display_data"
    }
   ],
   "source": [
    "plt.style.use(\"ggplot\")\n",
    "plt.figure()\n",
    "N=13\n",
    "plt.plot(np.arange(0,N), custom.history[\"loss\"], label=\"train_loss\")\n",
    "plt.plot(np.arange(0,N), custom.history[\"val_loss\"], label=\"val_loss\")\n",
    "plt.plot(np.arange(0,N), custom.history[\"accuracy\"], label=\"train_acc\")\n",
    "plt.plot(np.arange(0,N), custom.history[\"val_accuracy\"], label=\"val_acc\")\n",
    "plt.title(\"Train_loss and Train_Acc for 13 epochs dated: OCT19,2020\")\n",
    "plt.xlabel(\"Epoch #\")\n",
    "plt.ylabel(\"Loss/Accuracy\")\n",
    "plt.legend(\"Loc=upper right\")\n",
    "plt.savefig('plant_disease_classifier_model/plant_disease_13_epoch_plot.png')#save png image of the graph\n",
    "plt.show()"
   ]
  },
  {
   "cell_type": "code",
   "execution_count": 20,
   "metadata": {},
   "outputs": [],
   "source": [
    "model=load_model('plant_disease_classifier_model/plant_disease_classifier.h5')"
   ]
  },
  {
   "cell_type": "code",
   "execution_count": 21,
   "metadata": {},
   "outputs": [],
   "source": [
    "webcam=cv2.VideoCapture(0)"
   ]
  },
  {
   "cell_type": "code",
   "execution_count": 22,
   "metadata": {},
   "outputs": [],
   "source": [
    "classes=['Pepper__bell___Bacterial_spot','Pepper__bell___healthy','Potato___Early_blight','Potato___healthy',\n",
    "         'Potato___Late_blight','Tomato__Target_Spot','Tomato__Tomato_mosaic_virus','Tomato__Tomato_YellowLeaf__Curl_Virus',\n",
    "         'Tomato_Bacterial_spot','Tomato_Early_blight','Tomato_healthy','Tomato_Late_blight','Tomato_Leaf_Mold',\n",
    "         'Tomato_Septoria_leaf_spot','Tomato_Spider_mites_Two_spotted_spider_mite']"
   ]
  },
  {
   "cell_type": "code",
   "execution_count": null,
   "metadata": {},
   "outputs": [],
   "source": [
    "while webcam.isOpened():\n",
    "    status,frame=webcam.read()\n",
    "    bbox, label, conf = cv.detect_common_objects(frame)\n",
    "    for idx, f in enumerate(bbox):\n",
    "        (startX,startY)=f[0], f[1]\n",
    "        (endX, endY)=f[2], f[3]\n",
    "        cv2.rectangle (frame, (startX,startY), (endX,endY), (0,255,0), 2)\n",
    "    \n",
    "        img_crop=np.copy(frame[startY:endY, startX:endX])\n",
    "        if(img_crop.shape[0]<10 or (img_crop.shape[1])<10):\n",
    "            continue\n",
    "        img_crop=cv2.resize(img_crop,(128,128))\n",
    "        img_crop=img_crop.astype(\"float\")/255.0\n",
    "        img_crop=img_to_array(img_crop)\n",
    "        img_crop=np.expand_dims(img_crop,axis=0)\n",
    "    \n",
    "        conf=model.predict(img_crop)[0]\n",
    "    \n",
    "        idx=np.argmax(conf)\n",
    "    \n",
    "        label=classes[idx]\n",
    "    \n",
    "        label=\"{}: {:.2f}%\".format(label,conf[idx]*100)\n",
    "    \n",
    "        Y=startY = 10 if startY -10 > 10 else startY + 10\n",
    "    \n",
    "        cv2.putText(frame, label, (startX,Y), cv2.FONT_HERSHEY_SIMPLEX, 0.7, (0,255,0), 2)\n",
    "    \n",
    "    cv2.imshow(\"leaf detection\", frame) \n",
    "\n",
    "    if cv2.waitKey(1) & 0xFF == ord('q'):\n",
    "        break\n",
    "    \n",
    "webcam.release()\n",
    "cv2.destroyAllWindows()"
   ]
  },
  {
   "cell_type": "code",
   "execution_count": null,
   "metadata": {},
   "outputs": [],
   "source": []
  }
 ],
 "metadata": {
  "kernelspec": {
   "display_name": "Python 3",
   "language": "python",
   "name": "python3"
  },
  "language_info": {
   "codemirror_mode": {
    "name": "ipython",
    "version": 3
   },
   "file_extension": ".py",
   "mimetype": "text/x-python",
   "name": "python",
   "nbconvert_exporter": "python",
   "pygments_lexer": "ipython3",
   "version": "3.8.3"
  }
 },
 "nbformat": 4,
 "nbformat_minor": 4
}
